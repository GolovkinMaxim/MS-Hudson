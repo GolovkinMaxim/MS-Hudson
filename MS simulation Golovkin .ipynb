{
 "cells": [
  {
   "cell_type": "markdown",
   "metadata": {},
   "source": [
    "HOMEWORK 2: COALESCENT WITH MUTATION \n",
    "GOLOVKIN M.A."
   ]
  },
  {
   "cell_type": "code",
   "execution_count": 1,
   "metadata": {
    "collapsed": true
   },
   "outputs": [],
   "source": [
    "# Используемые библиотеки\n",
    "import numpy as np\n",
    "import pylab\n",
    "import matplotlib.pyplot as plt\n",
    "plt.rc('font', family='Verdana')\n",
    "import copy\n",
    "%matplotlib inline"
   ]
  },
  {
   "cell_type": "markdown",
   "metadata": {},
   "source": [
    "Общие функции, используемые для реализации алгоритмов."
   ]
  },
  {
   "cell_type": "code",
   "execution_count": 2,
   "metadata": {
    "collapsed": false
   },
   "outputs": [],
   "source": [
    "# Функция расчета размера популяции в момент времени t\n",
    "# Входные параметры: время t, вектор времен изменения популяции с, вектор популяций f\n",
    "# Выходной параметр: размер популяции\n",
    "def Pop_size(t, c, f):\n",
    "    if len(c) != 1:\n",
    "        for i in range(1, len(c)):\n",
    "            if t >= c[i-1] and t < c[i]:\n",
    "                return f[i-1]\n",
    "        if t >= c[-1]:\n",
    "            return f[-1]\n",
    "    else:\n",
    "        return(f[0])\n",
    "    \n",
    "# Функция проверки изменения размера популяции\n",
    "# Входные параметры: время t0, время t1, вектор времен изменения популяции с, вектор популяций f\n",
    "# Выходной параметр: было ли изменениие размера, начальное положение\n",
    "def True_pop(t0, t1, c, f):\n",
    "    tr0 = len(c) - 1\n",
    "    tr1 = len(c) - 1    \n",
    "    for i in range(len(c) - 1):\n",
    "        if t0 >= c[i] and t0 < c[i+1]:\n",
    "            tr0 = i\n",
    "            break;\n",
    "    for i in range(len(c) - 1):\n",
    "        if t1 >= c[i] and t1 < c[i+1]:\n",
    "            tr1 = i\n",
    "            break;\n",
    "    if tr0 == tr1:\n",
    "        return True, int(tr0)\n",
    "    else:\n",
    "        return False, int(tr0)\n",
    "\n",
    "# Функция моделирования времени следующего события и типа события\n",
    "# Входные параметры: время t0, число индивидуумов K, частота мутации m, вектор времен изменения популяции с, вектор популяций f\n",
    "# Выходной параметр: время следующего события и тип события (0 - коалесценция, 1 - мутация)\n",
    "def Init(t0, K, m, c, f):\n",
    "    v = Pop_size(t0, c, f)\n",
    "    l = K*m + K*(K-1)/(2*v)\n",
    "    t1 = t0 + np.random.exponential(1/l)\n",
    "    while True_pop(t0, t1, c, f)[0] == False:\n",
    "        t0 = c[True_pop(t0, t1, c, f)[1] + 1]\n",
    "        v = Pop_size(t0, c, f)\n",
    "        l = K*m + K*(K-1)/(2*v)\n",
    "        t1 = t0 + np.random.exponential(1/l)\n",
    "    s = np.random.binomial(1, K*m/l)\n",
    "    return t1, s\n",
    "\n",
    "# Функция изображения дерева\n",
    "# Входные параметры: число индивидуумов K, частота мутации m, вектор времен изменения популяции с, вектор популяций f\n",
    "# Выходной параметр: дерево, число мутаций, распределение мутаций по индивидуумам\n",
    "def MS_model(K, m, c, f):\n",
    "    fig, ax = plt.subplots()\n",
    "    t = 0\n",
    "    nm = 0\n",
    "    mut = [[] for i in range(K)]\n",
    "    par1 = []\n",
    "    x_plot = []\n",
    "    y_plot = []\n",
    "    x = np.zeros(K)\n",
    "    for i in range(K):\n",
    "        x[i] = np.sum(np.arange(K)[:i+1])\n",
    "    x_plot.append(x/np.sum(np.arange(K)))\n",
    "    y_plot.append(np.zeros(K))\n",
    "    j1, j2 = 0, 0\n",
    "    while K!=1:\n",
    "        t, s = Init(t, K, m, c, f)\n",
    "        if s == 1:\n",
    "            j = int(np.random.randint(0,K))\n",
    "            u = np.random.random()\n",
    "            mut[j].append(u)\n",
    "            if len(par1)!=0:\n",
    "                for i in par1[j]:\n",
    "                    if i != j:\n",
    "                        mut[i].append(u)\n",
    "            ax.scatter(x_plot[-1][j], t, color = 'r')\n",
    "            nm += 1\n",
    "        else:\n",
    "            par2 = []\n",
    "            j1, j2 = np.random.choice(K, 2, replace = False)\n",
    "            p = (x_plot[-1][j1]+x_plot[-1][j2])/2\n",
    "            ax.plot([x_plot[-1], x_plot[-1]], [y_plot[-1], np.ones(K)*t], color = 'k')\n",
    "            ax.plot([x_plot[-1][j1], p], [t, t], color = 'k')\n",
    "            ax.plot([x_plot[-1][j2], p], [t, t], color = 'k')\n",
    "            x_plot[-1][j1] = p\n",
    "            x_plot[-1][j2] = p\n",
    "            y_plot[-1] = np.ones(K) * t\n",
    "            j_max = max(j1,j2)\n",
    "            j_min = min(j1,j2)\n",
    "            if len(par1) != 0:\n",
    "                for i in range(K):\n",
    "                    if i < j_min:\n",
    "                        par2.append(par1[i])\n",
    "                    if i == j_min:\n",
    "                        par2.append(par1[j_min] + par1[j_max])\n",
    "                    if i > j_min and i < j_max:\n",
    "                        par2.append(par1[i])\n",
    "                    if i > j_max:\n",
    "                        par2.append(par1[i])\n",
    "                par1 = copy.deepcopy(par2)\n",
    "            else:\n",
    "                for i in range(K):\n",
    "                    if i < j_min:\n",
    "                        par1.append([i])\n",
    "                    if i == j_min:\n",
    "                        par1.append([j_min, j_max])\n",
    "                    if i > j_min and i < j_max:\n",
    "                        par1.append([i])\n",
    "                    if i > j_max:\n",
    "                        par1.append([i])\n",
    "            z1 = np.delete(x_plot[-1], j_max)\n",
    "            z2 = np.delete(y_plot[-1], j_max)\n",
    "            x_plot = []\n",
    "            y_plot = []\n",
    "            x_plot.append(z1)\n",
    "            y_plot.append(z2)\n",
    "            K -= 1\n",
    "    ax.plot([x_plot[-1], x_plot[-1]], [y_plot[-1], [1.3*t]], color = 'k')\n",
    "    fig.set_figwidth(12)\n",
    "    fig.set_figheight(2)\n",
    "    ax.set_xlim(-0.2,1.2)\n",
    "    ax.set_ylim(0,1.3*t)\n",
    "    plt.show()\n",
    "    rem = remut(mut, len(mut))\n",
    "    print('Число мутаций:', nm)\n",
    "    if nm != 0:\n",
    "        rem = remut(mut, len(mut))\n",
    "        print('Мутации:')\n",
    "        for i in rem:\n",
    "            print(round(i,4), ' (',*rem[i],')', sep = '')\n",
    "    \n",
    "# Функция подсчета времени конечной \n",
    "# Входные параметры: число индивидуумов K, частота мутации m, вектор времен изменения популяции с, вектор популяций f\n",
    "# Выходной параметр: дерево, число мутаций, распределение мутаций по индивидуумам\n",
    "def MS_model_t(K, m, c, f):\n",
    "    t = 0\n",
    "    x_plot = []\n",
    "    y_plot = []\n",
    "    z1 = []\n",
    "    z2 = []\n",
    "    x = np.zeros(K)\n",
    "    for i in range(K):\n",
    "        x[i] = np.sum(np.arange(K)[:i+1])\n",
    "    x_plot.append(x/np.sum(np.arange(K)))\n",
    "    y_plot.append(np.zeros(K))\n",
    "    j1, j2 = 0, 0\n",
    "    while K!=1:\n",
    "        t, s = Init(t, K, m, c, f)\n",
    "        if s == 1:\n",
    "            j = int(np.random.randint(0,K))\n",
    "        else:\n",
    "            j1, j2 = np.random.choice(K, 2, replace = False)\n",
    "            p = (x_plot[-1][j1]+x_plot[-1][j2])/2\n",
    "            x_plot[-1][j1] = p\n",
    "            x_plot[-1][j2] = p\n",
    "            y_plot[-1] = np.ones(K)*t\n",
    "            z1 = np.delete(x_plot[-1],j1)\n",
    "            z2 = np.delete(y_plot[-1],j1)\n",
    "            x_plot = []\n",
    "            y_plot = []\n",
    "            x_plot.append(z1)\n",
    "            y_plot.append(z2)\n",
    "            K -= 1\n",
    "    return t\n",
    "\n",
    "# Функция построения зависимости числа мутаций от длины ребра\n",
    "# Входные параметры: число индивидуумов K, частота мутации m, вектор времен изменения популяции с, вектор популяций f\n",
    "# Выходной параметр: график зависимости, число мутаций\n",
    "def MS_model_t_dist(K, m, c, f):\n",
    "    fig, ax = plt.subplots()\n",
    "    t = 0\n",
    "    nm = 0\n",
    "    mut = [[] for i in range(K)]\n",
    "    par1 = []\n",
    "    x_plot = []\n",
    "    y_plot = []\n",
    "    nm_x = []\n",
    "    nm_y = []\n",
    "    nm_t = [0 for i in range(K)]\n",
    "    nm_n = [0 for i in range(K)]\n",
    "    x = np.zeros(K)\n",
    "    for i in range(K):\n",
    "        x[i] = np.sum(np.arange(K)[:i+1])\n",
    "    x_plot.append(x/np.sum(np.arange(K)))\n",
    "    y_plot.append(np.zeros(K))\n",
    "    j1, j2 = 0, 0\n",
    "    while K!=1:\n",
    "        t, s = Init(t, K, m, c, f)\n",
    "        for i in range(K):\n",
    "            nm_t[i] += t\n",
    "        if s == 1:\n",
    "            j = int(np.random.randint(0,K))\n",
    "            u = np.random.random()\n",
    "            mut[j].append(u)\n",
    "            if len(par1)!=0:\n",
    "                for i in par1[j]:\n",
    "                    if i != j:\n",
    "                        mut[i].append(u)\n",
    "            nm_n[j] += 1\n",
    "        else:\n",
    "            par2 = []\n",
    "            j1, j2 = np.random.choice(K, 2, replace = False)\n",
    "            p = (x_plot[-1][j1]+x_plot[-1][j2])/2\n",
    "            x_plot[-1][j1] = p\n",
    "            x_plot[-1][j2] = p\n",
    "            y_plot[-1] = np.ones(K) * t\n",
    "            j_max = max(j1,j2)\n",
    "            j_min = min(j1,j2)\n",
    "            if len(par1) != 0:\n",
    "                for i in range(K):\n",
    "                    if i < j_min:\n",
    "                        par2.append(par1[i])\n",
    "                    if i == j_min:\n",
    "                        par2.append(par1[j_min] + par1[j_max])\n",
    "                        nm_x.append(nm_t[i])\n",
    "                        nm_y.append(nm_n[i])\n",
    "                        nm_t[i] = 0\n",
    "                        nm_n[i] = 0\n",
    "                    if i > j_min and i < j_max:\n",
    "                        par2.append(par1[i])\n",
    "                    if i > j_max:\n",
    "                        par2.append(par1[i])\n",
    "                    if i == j_max:\n",
    "                        nm_x.append(nm_t[i])\n",
    "                        nm_y.append(nm_n[i])\n",
    "                        nm_t = np.delete(nm_t, i)\n",
    "                        nm_n = np.delete(nm_n, i)\n",
    "                par1 = copy.deepcopy(par2)\n",
    "            else:\n",
    "                for i in range(K):\n",
    "                    if i < j_min:\n",
    "                        par1.append([i])\n",
    "                    if i == j_min:\n",
    "                        par1.append([j_min, j_max])\n",
    "                        nm_x.append(nm_t[i])\n",
    "                        nm_y.append(nm_n[i])\n",
    "                        nm_t[i] = 0\n",
    "                        nm_n[i] = 0\n",
    "                    if i > j_min and i < j_max:\n",
    "                        par1.append([i])\n",
    "                    if i > j_max:\n",
    "                        par1.append([i])\n",
    "                    if i == j_max:\n",
    "                        nm_x.append(nm_t[i])\n",
    "                        nm_y.append(nm_n[i])\n",
    "                        nm_t = np.delete(nm_t, i)\n",
    "                        nm_n = np.delete(nm_n, i)\n",
    "            z1 = np.delete(x_plot[-1], j_max)\n",
    "            z2 = np.delete(y_plot[-1], j_max)\n",
    "            x_plot = []\n",
    "            y_plot = []\n",
    "            x_plot.append(z1)\n",
    "            y_plot.append(z2)\n",
    "            K -= 1\n",
    "    ax.scatter(nm_x, nm_y, color = 'r')\n",
    "    fig.set_figwidth(12)\n",
    "    fig.set_figheight(2)\n",
    "    p = np.polyfit(nm_x, nm_y, 1)\n",
    "    ya = np.polyval(p, nm_x)\n",
    "    ax.plot(nm_x, ya)\n",
    "    ax.set_xlabel('Длина ребра')\n",
    "    ax.set_ylabel('Число мутаций')\n",
    "    plt.show()\n",
    "    print('Всего мутаций:', np.sum(np.array(nm_y)))\n",
    "\n",
    "# Функция построения частотного распределения времен конечной коалесценции\n",
    "# Входные параметры: число индивидуумов K, частота мутации m, число хромосом М, вектор времен изменения популяции с, \n",
    "# вектор популяций f\n",
    "# Выходной параметр: график зависимости, выборочное среднее, выборочное среднеквадратичное отклонение\n",
    "def print_dist_MS(K, m, M, c, f):\n",
    "    fig, ax = plt.subplots()\n",
    "    X = []\n",
    "    Y = []\n",
    "    P = np.zeros(M)\n",
    "    for i in range (M):\n",
    "        t = MS_model_t(K, m, c, f)\n",
    "        t1 = round(t,3)\n",
    "        if t1 not in X:\n",
    "            X.append(t1)\n",
    "            Y.append(1)\n",
    "        else:\n",
    "            Y[X.index(t1)] += 1\n",
    "        P[i] = t\n",
    "    ax.bar(X,np.array(Y)/M,align = 'center', width = 0.0008)\n",
    "    fig.set_figwidth(12)\n",
    "    fig.set_figheight(2)\n",
    "    ax.set_xlabel('Время коалесценции')\n",
    "    ax.set_ylabel('Частота')\n",
    "    plt.show()\n",
    "    EY = np.sum(P)/M\n",
    "    DY = np.sqrt(np.sum((P-EY)**2)/(M-1))\n",
    "    print('Выборочное среднее', EY)\n",
    "    print('Выборочное среднеквадратичное отклонение', DY)\n",
    "    \n",
    "# Функция построения частотного распределения времен конечной коалесценции для MS Hudson\n",
    "# Входные параметры: вектор времен \n",
    "# Выходной параметр: график зависимости, выборочное среднее, выборочное среднеквадратичное отклонение\n",
    "def print_Hudson_MS(S):\n",
    "    fig, ax = plt.subplots()\n",
    "    X = []\n",
    "    Y = []\n",
    "    M = len(S)\n",
    "    P = np.zeros(M)\n",
    "    for i in range (M):\n",
    "        if S[i] not in X:\n",
    "            X.append(S[i])\n",
    "            Y.append(1)\n",
    "        else:\n",
    "            Y[X.index(S[i])] += 1\n",
    "    ax.bar(X,np.array(Y)/M,align = 'center', width = 0.0008)\n",
    "    fig.set_figwidth(12)\n",
    "    fig.set_figheight(2)\n",
    "    ax.set_xlabel('Время коалесценции')\n",
    "    ax.set_ylabel('Частота')\n",
    "    EY = np.sum(S)/M\n",
    "    DY = np.sqrt(np.sum((S-EY)**2)/(M-1))\n",
    "    print('Выборочное среднее', EY)\n",
    "    print('Выборочное среднеквадратичное отклонение', DY)\n",
    "\n",
    "# Функция изменения структуры данных хранения мутаций\n",
    "def remut(mut, K):\n",
    "    s = {}\n",
    "    for i in range(K):\n",
    "        for j in mut[i]:\n",
    "            if j not in s:\n",
    "                s[j] = np.zeros((K,), dtype = int)\n",
    "            s[j][i] = 1\n",
    "    return s"
   ]
  },
  {
   "cell_type": "markdown",
   "metadata": {},
   "source": [
    "Дерево коалесценций с мутациями  \n",
    "Число индивидуумов K = 2  \n",
    "Частота мутации m = 3  \n",
    "Размер популяции равен 1"
   ]
  },
  {
   "cell_type": "code",
   "execution_count": 3,
   "metadata": {
    "collapsed": false
   },
   "outputs": [
    {
     "data": {
      "image/png": "[encoded data removed]",
      "text/plain": [
       "<matplotlib.figure.Figure at 0xd6e4defb00>"
      ]
     },
     "metadata": {},
     "output_type": "display_data"
    },
    {
     "name": "stdout",
     "output_type": "stream",
     "text": [
      "Число мутаций: 2\n",
      "Мутации:\n",
      "0.4376 (10)\n",
      "0.8579 (01)\n"
     ]
    }
   ],
   "source": [
    "np.random.seed(0)\n",
    "K = 2\n",
    "m = 3\n",
    "c = [0]\n",
    "f = [1]\n",
    "MS_model(K, m, c, f)"
   ]
  },
  {
   "cell_type": "markdown",
   "metadata": {},
   "source": [
    "Дерево коалесценций с мутациями  \n",
    "Число индивидуумов K = 2  \n",
    "Частота мутации m = 4  \n",
    "Размер популяции равен 1"
   ]
  },
  {
   "cell_type": "code",
   "execution_count": 4,
   "metadata": {
    "collapsed": false
   },
   "outputs": [
    {
     "data": {
      "image/png": "[encoded data removed]",
      "text/plain": [
       "<matplotlib.figure.Figure at 0xd6e4dd5828>"
      ]
     },
     "metadata": {},
     "output_type": "display_data"
    },
    {
     "name": "stdout",
     "output_type": "stream",
     "text": [
      "Число мутаций: 4\n",
      "Мутации:\n",
      "0.3879 (100)\n",
      "0.8781 (100)\n",
      "0.4572 (011)\n",
      "0.3023 (010)\n"
     ]
    }
   ],
   "source": [
    "np.random.seed(1)\n",
    "K = 3\n",
    "m = 4\n",
    "c = [0]\n",
    "f = [1]\n",
    "MS_model(K, m, c, f)"
   ]
  },
  {
   "cell_type": "markdown",
   "metadata": {},
   "source": [
    "Дерево коалесценций с мутациями  \n",
    "Число индивидуумов K = 3  \n",
    "Частота мутации m = 5  \n",
    "Размер популяции равен 3, 0.1, 1.5, 3 и меняется в моменты времени 0, 0.05, 0.65, 6"
   ]
  },
  {
   "cell_type": "code",
   "execution_count": 5,
   "metadata": {
    "collapsed": false
   },
   "outputs": [
    {
     "data": {
      "image/png": "[encoded data removed]",
      "text/plain": [
       "<matplotlib.figure.Figure at 0xd6e4defa20>"
      ]
     },
     "metadata": {},
     "output_type": "display_data"
    },
    {
     "name": "stdout",
     "output_type": "stream",
     "text": [
      "Число мутаций: 3\n",
      "Мутации:\n",
      "0.8165 (100)\n",
      "0.8183 (100)\n",
      "0.5554 (011)\n"
     ]
    }
   ],
   "source": [
    "np.random.seed(8)\n",
    "K = 3\n",
    "m = 5\n",
    "c = [0, 0.05, 0.65, 6]\n",
    "f = [3, 0.1, 1.5, 3]\n",
    "MS_model(K, m, c, f)"
   ]
  },
  {
   "cell_type": "markdown",
   "metadata": {},
   "source": [
    "Частотное распределение времен конечной коалесценции  \n",
    "Число индивидуумов K = 2  \n",
    "Частота мутации m = 0 (без мутаций)  \n",
    "Число хромосом M = 100000\n",
    "Размер популяции равен 1"
   ]
  },
  {
   "cell_type": "code",
   "execution_count": 6,
   "metadata": {
    "collapsed": false
   },
   "outputs": [
    {
     "data": {
      "image/png": "[encoded data removed]",
      "text/plain": [
       "<matplotlib.figure.Figure at 0xd6e563d160>"
      ]
     },
     "metadata": {},
     "output_type": "display_data"
    },
    {
     "name": "stdout",
     "output_type": "stream",
     "text": [
      "Выборочное среднее 1.00047656041\n",
      "Выборочное среднеквадратичное отклонение 1.00179226651\n"
     ]
    }
   ],
   "source": [
    "np.random.seed(3)\n",
    "K = 2\n",
    "m = 0\n",
    "M = 100000\n",
    "c = [0]\n",
    "f = [1]\n",
    "print_dist_MS(K, m, M, c, f)"
   ]
  },
  {
   "cell_type": "markdown",
   "metadata": {},
   "source": [
    "Частотное распределение времен конечной коалесценции для Hudson's MS  \n",
    "Число индивидуумов K = 2  \n",
    "Частота мутации m = 0 (без мутаций)  \n",
    "Число хромосом M = 100000  \n",
    "Размер популяции равен 1"
   ]
  },
  {
   "cell_type": "code",
   "execution_count": 7,
   "metadata": {
    "collapsed": false
   },
   "outputs": [
    {
     "name": "stdout",
     "output_type": "stream",
     "text": [
      "Выборочное среднее 1.00260148\n",
      "Выборочное среднеквадратичное отклонение 1.00011663652\n"
     ]
    },
    {
     "data": {
      "image/png": "[encoded data removed]",
      "text/plain": [
       "<matplotlib.figure.Figure at 0xd6ecd9cf98>"
      ]
     },
     "metadata": {},
     "output_type": "display_data"
    }
   ],
   "source": [
    "f = open(r'C:\\Users\\Андрей\\Desktop\\ms2.txt','r')\n",
    "S = []\n",
    "for line in f:\n",
    "    j = line.find('(')\n",
    "    if j != -1:\n",
    "        S.append(2*float(line[j+3:j+8]))\n",
    "print_Hudson_MS(S)"
   ]
  },
  {
   "cell_type": "markdown",
   "metadata": {},
   "source": [
    "Частотное распределение времен конечной коалесценции   \n",
    "Число индивидуумов K = 3  \n",
    "Частота мутации m = 0 (без мутаций)    \n",
    "Число хромосом M = 100000  \n",
    "Размер популяции равен 1"
   ]
  },
  {
   "cell_type": "code",
   "execution_count": 8,
   "metadata": {
    "collapsed": false
   },
   "outputs": [
    {
     "data": {
      "image/png": "[encoded data removed]",
      "text/plain": [
       "<matplotlib.figure.Figure at 0xd6e4f0ea20>"
      ]
     },
     "metadata": {},
     "output_type": "display_data"
    },
    {
     "name": "stdout",
     "output_type": "stream",
     "text": [
      "Выборочное среднее 1.33771946856\n",
      "Выборочное среднеквадратичное отклонение 1.05626514903\n"
     ]
    }
   ],
   "source": [
    "np.random.seed(4)\n",
    "K = 3\n",
    "m = 0\n",
    "M = 100000\n",
    "c = [0]\n",
    "f = [1]\n",
    "print_dist_MS(K, m, M, c, f)"
   ]
  },
  {
   "cell_type": "markdown",
   "metadata": {},
   "source": [
    "Частотное распределение времен конечной коалесценции Hudson's ms  \n",
    "Число индивидуумов K = 3  \n",
    "Частота мутации m = 0 (без мутаций)  \n",
    "Число хромосом M = 100000  \n",
    "Размер популяции равен 1"
   ]
  },
  {
   "cell_type": "code",
   "execution_count": 9,
   "metadata": {
    "collapsed": false
   },
   "outputs": [
    {
     "name": "stdout",
     "output_type": "stream",
     "text": [
      "Выборочное среднее 1.33624664\n",
      "Выборочное среднеквадратичное отклонение 1.05921434275\n"
     ]
    },
    {
     "data": {
      "image/png": "[encoded data removed]",
      "text/plain": [
       "<matplotlib.figure.Figure at 0xd6ea522ac8>"
      ]
     },
     "metadata": {},
     "output_type": "display_data"
    }
   ],
   "source": [
    "f = open(r'C:\\Users\\Андрей\\Desktop\\ms3.txt','r')\n",
    "S = []\n",
    "for line in f:\n",
    "    j = line.find('(')\n",
    "    if j != -1:\n",
    "        S.append(2*float(line[j+3:j+8]))\n",
    "print_Hudson_MS(S)"
   ]
  },
  {
   "cell_type": "markdown",
   "metadata": {},
   "source": [
    "Частотное распределение времен конечной коалесценции   \n",
    "Число индивидуумов K = 2  \n",
    "Частота мутации m = 0 (без мутаций)  \n",
    "Число хромосом M = 100000  \n",
    "Размер популяции равен 1.5, 3 и меняется в моменты времени 0, 6"
   ]
  },
  {
   "cell_type": "code",
   "execution_count": 11,
   "metadata": {
    "collapsed": false
   },
   "outputs": [
    {
     "data": {
      "image/png": "[encoded data removed]",
      "text/plain": [
       "<matplotlib.figure.Figure at 0xd6e5a6dda0>"
      ]
     },
     "metadata": {},
     "output_type": "display_data"
    },
    {
     "name": "stdout",
     "output_type": "stream",
     "text": [
      "Выборочное среднее 1.5299535619\n",
      "Выборочное среднеквадратичное отклонение 1.65570020752\n"
     ]
    }
   ],
   "source": [
    "np.random.seed(5)\n",
    "K = 2\n",
    "m = 0\n",
    "M = 100000\n",
    "c = np.array([0,6])\n",
    "f = np.array([1.5, 3])\n",
    "print_dist_MS(K, m, M, c, f)"
   ]
  },
  {
   "cell_type": "markdown",
   "metadata": {},
   "source": [
    "Частотное распределение времен конечной коалесценции  Hudson's ms\n",
    "Число индивидуумов K = 2  \n",
    "Частота мутации m = 0 (без мутаций)  \n",
    "Число хромосом M = 100000  \n",
    "Размер популяции равен 1.5, 3 и меняется в моменты времени 0, 6"
   ]
  },
  {
   "cell_type": "code",
   "execution_count": 12,
   "metadata": {
    "collapsed": false
   },
   "outputs": [
    {
     "name": "stdout",
     "output_type": "stream",
     "text": [
      "Выборочное среднее 1.52535666\n",
      "Выборочное среднеквадратичное отклонение 1.65318753781\n"
     ]
    },
    {
     "data": {
      "image/png": "[encoded data removed]",
      "text/plain": [
       "<matplotlib.figure.Figure at 0xd6e883b898>"
      ]
     },
     "metadata": {},
     "output_type": "display_data"
    }
   ],
   "source": [
    "f = open(r'C:\\Users\\Андрей\\Desktop\\ms4.txt','r')\n",
    "S = []\n",
    "for line in f:\n",
    "    j = line.find('(')\n",
    "    if j != -1:\n",
    "        S.append(2*float(line[j+3:j+8]))\n",
    "print_Hudson_MS(S)"
   ]
  },
  {
   "cell_type": "markdown",
   "metadata": {},
   "source": [
    "Частотное распределение времен конечной коалесценции   \n",
    "Число индивидуумов K = 2  \n",
    "Частота мутации m = 0 (без мутаций)  \n",
    "Число хромосом M = 100000  \n",
    "Размер популяции равен 0, 0.05, 0.65, 6 и меняется в моменты времени 3, 0.1, 1.5, 3"
   ]
  },
  {
   "cell_type": "code",
   "execution_count": 13,
   "metadata": {
    "collapsed": false
   },
   "outputs": [
    {
     "data": {
      "image/png": "[encoded data removed]",
      "text/plain": [
       "<matplotlib.figure.Figure at 0xd6e8849cf8>"
      ]
     },
     "metadata": {},
     "output_type": "display_data"
    },
    {
     "name": "stdout",
     "output_type": "stream",
     "text": [
      "Выборочное среднее 0.15099234732\n",
      "Выборочное среднеквадратичное отклонение 0.164543145372\n"
     ]
    }
   ],
   "source": [
    "np.random.seed(6)\n",
    "K = 2\n",
    "m = 0\n",
    "M = 100000 \n",
    "c = np.array([0, 0.05, 0.65, 6])\n",
    "f = np.array([3, 0.1, 1.5, 3])\n",
    "print_dist_MS(K, m, M, c, f)"
   ]
  },
  {
   "cell_type": "markdown",
   "metadata": {},
   "source": [
    "Частотное распределение времен конечной коалесценции Hudson's ms\n",
    "Число индивидуумов K = 2  \n",
    "Частота мутации m = 0 (без мутаций)  \n",
    "Число хромосом M = 100000  \n",
    "Размер популяции равен 0, 0.05, 0.65, 6 и меняется в моменты времени 3, 0.1, 1.5, 3"
   ]
  },
  {
   "cell_type": "code",
   "execution_count": 14,
   "metadata": {
    "collapsed": false
   },
   "outputs": [
    {
     "name": "stdout",
     "output_type": "stream",
     "text": [
      "Выборочное среднее 0.15091558\n",
      "Выборочное среднеквадратичное отклонение 0.15547290192\n"
     ]
    },
    {
     "data": {
      "image/png": "[encoded data removed]",
      "text/plain": [
       "<matplotlib.figure.Figure at 0xd6e5e25128>"
      ]
     },
     "metadata": {},
     "output_type": "display_data"
    }
   ],
   "source": [
    "f = open(r'C:\\Users\\Андрей\\Desktop\\ms5.txt','r')\n",
    "S = []\n",
    "for line in f:\n",
    "    j = line.find('(')\n",
    "    if j != -1:\n",
    "        S.append(2*float(line[j+3:j+8]))\n",
    "print_Hudson_MS(S)"
   ]
  },
  {
   "cell_type": "markdown",
   "metadata": {},
   "source": [
    "Зависимость числа мутаций от длины ребра  \n",
    "Число индивидуумов K = 100  \n",
    "Частота мутации m = 10000  \n",
    "Число мутаций порядка 100000  \n",
    "Размер популяции равен 1 "
   ]
  },
  {
   "cell_type": "code",
   "execution_count": 15,
   "metadata": {
    "collapsed": false
   },
   "outputs": [
    {
     "data": {
      "image/png": "[encoded data removed]",
      "text/plain": [
       "<matplotlib.figure.Figure at 0xd6e7260748>"
      ]
     },
     "metadata": {},
     "output_type": "display_data"
    },
    {
     "name": "stdout",
     "output_type": "stream",
     "text": [
      "Всего мутаций: 91300\n"
     ]
    }
   ],
   "source": [
    "np.random.seed(6)\n",
    "K = 100\n",
    "m = 10000\n",
    "c = [0]\n",
    "f = [1]\n",
    "MS_model_t_dist(K, m, c, f)"
   ]
  }
 ],
 "metadata": {
  "kernelspec": {
   "display_name": "Python 3",
   "language": "python",
   "name": "python3"
  },
  "language_info": {
   "codemirror_mode": {
    "name": "ipython",
    "version": 3
   },
   "file_extension": ".py",
   "mimetype": "text/x-python",
   "name": "python",
   "nbconvert_exporter": "python",
   "pygments_lexer": "ipython3",
   "version": "3.5.1"
  }
 },
 "nbformat": 4,
 "nbformat_minor": 0
}
